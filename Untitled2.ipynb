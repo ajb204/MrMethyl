{
 "cells": [
  {
   "cell_type": "markdown",
   "metadata": {},
   "source": [
    "ALA 241 A VAL 242 A 6.10106e+05,4.17026e+06,-3.56015e+06,-5.83531e+02 \n",
    "VAL 242 A ALA 241 A 4.80477e+05,2.25267e+05,2.55210e+05,5.31159e+01\n",
    "ALA 241 A VAL 242 B 3.26416e+06,3.30898e+06,-4.48174e+04,-1.37301e+00 \n",
    "VAL 242 B ALA 241 A 3.17102e+06,3.18907e+06,-1.80437e+04,-5.69020e-01\n",
    "\n",
    "\n",
    "VAL 235 A ILE 219 A 7.09040e+06,7.05006e+06,4.03353e+04,5.68873e-01\n",
    "ILE 219 A VAL 235 A 1.03605e+07,1.03606e+07,-5.26404e+01,-5.08087e-04\n",
    "ILE 219 A VAL 235 B 6.50053e+05,6.50056e+05,-3.32491e+00,-5.11484e-04\n",
    "VAL 235 B ILE 219 A 4.75688e+05,8.21960e+05,-3.46272e+05,-7.27939e+01 #Initial intensity might be off here? Quite a small guy so optimization won't be perfect?\n",
    "\n",
    "\n",
    "LEU 44 B VAL 40 A 7.49952e+06,5.89459e+06,1.60493e+06,2.14005e+01 #Both residues are on the surface of the protein. May be dynamic? Poorly resolved in XRD?\n",
    "VAL 40 A LEU 44 B 7.60726e+06,7.60731e+06,-4.93795e+01,-6.49109e-04\n",
    "VAL 40 A LEU 44 A 8.70047e+05,8.70052e+05,-5.13603e+00,-5.90317e-04\n",
    "LEU 44 A VAL 40 A 1.04964e+06,3.52067e+06,-2.47103e+06,-2.35418e+02 \n",
    "\n",
    "VAL 40 B ILE 93 A 9.23749e+06,4.22750e+06,5.00999e+06,5.42354e+01 #Residues are on the surface of the protein - dynamics in NMR/poorly resolved in XRD?\n",
    "VAL 40 A ILE 93 A 1.26827e+06,8.62154e+05,4.06112e+05,3.20211e+01\n",
    "ILE 93 A VAL 40 B 9.88399e+06,7.70384e+06,2.18015e+06,2.20574e+01\n",
    "ILE 93 A VAL 40 A 1.65040e+06,2.02603e+06,-3.75630e+05,-2.27600e+01\n",
    "VAL 36 A VAL 40 B 5.55918e+06,7.73159e+06,-2.17241e+06,-3.90779e+01\n",
    "VAL 40 B VAL 36 A 6.61640e+06,7.05592e+06,-4.39525e+05,-6.64296e+00\n",
    "\n",
    "\n",
    "ALA 127 A VAL 130 A 9.68645e+05,9.75528e+05,-6.88359e+03,-7.10641e-01 #At the core of a \"conversational\" region - Might change with sampling? \n",
    "VAL 130 A ALA 127 A 6.39044e+05,8.34946e+05,-1.95902e+05,-3.06555e+01 #And will have *double* the relaxation effects as VAL/LEU doubled up\n",
    "ALA 127 A VAL 130 B 9.77685e+05,4.15867e+05,5.61818e+05,5.74641e+01\n",
    "VAL 130 B ALA 127 A 8.08916e+05,1.35239e+06,-5.43472e+05,-6.71853e+01 \n",
    "\n",
    "ALA 16 A VAL 159 A 8.58695e+05,1.18480e+06,-3.26107e+05,-3.79771e+01\n",
    "VAL 159 A ALA 16 A 9.61130e+05,2.45155e+06,-1.49042e+06,-1.55069e+02\n",
    "ALA 16 A VAL 159 B 7.12365e+06,7.28084e+06,-1.57190e+05,-2.20659e+00\n",
    "VAL 159 B ALA 16 A 7.51263e+06,5.74567e+06,1.76696e+06,2.35198e+01 #Very \"conversant\" region - will be interesting to see how sampling changes this?\n",
    "\n",
    "\n",
    "VAL 212 A ALA 16 A 9.58636e+06,8.81332e+06,7.73048e+05,8.06404e+00 #VAL B is quite close to another VAL methyl, a\n",
    "ALA 16 A VAL 212 A 1.15331e+07,1.16008e+07,-6.77499e+04,-5.87440e-01 #Expect sampling to change this\n",
    "VAL 212 B ALA 16 A 7.72451e+05,3.12981e+06,-2.35736e+06,-3.05178e+02\n",
    "ALA 16 A VAL 212 B 5.91360e+05,1.18910e+06,-5.97744e+05,-1.01080e+02\n",
    "\n",
    "\n",
    "VAL 159 A ILE 180 A 1.29356e+06,3.48478e+05,9.45083e+05,7.30605e+01 #Very \"conversational\" region - Expect sampling to change this\n",
    "ILE 180 A VAL 159 A 1.66865e+06,2.77788e+05,1.39086e+06,8.33525e+01\n",
    "\n",
    "\n",
    "ALA 16 A ILE 157 A 1.12037e+06,1.77576e+06,-6.55391e+05,-5.84976e+01 #Very \"conversational\" region - Expect sampling to change this\n",
    "ILE 157 A ALA 16 A 1.25591e+06,3.22800e+06,-1.97209e+06,-1.57024e+02\n",
    "\n",
    "ILE 180 A ILE 157 A 2.37242e+06,6.46124e+06,-4.08882e+06,-1.72348e+02 #Very \"conversational\" region\n",
    "ILE 157 A ILE 180 A 2.68421e+06,7.12087e+06,-4.43666e+06,-1.65288e+02\n",
    "\n",
    "VAL 36 A VAL 40 B 5.55918e+06,7.73159e+06,-2.17241e+06,-3.90779e+01 #VAL 36,40,44 all v \"conversational\"\n",
    "VAL 36 A ILE 31 A 2.83020e+06,1.75749e+06,1.07271e+06,3.79021e+01 #ILE 31,93 expect to be relaxed twice over - counted double VAL\n",
    "VAL 36 A ILE 93 A 5.84147e+05,1.19429e+06,-6.10146e+05,-1.04451e+02\n",
    "VAL 36 B ILE 31 A 1.52330e+07,1.53559e+07,-1.22850e+05,-8.06473e-01\n",
    "VAL 36 B ALA 33 A 2.15731e+06,2.15732e+06,-1.11112e+01,-5.15048e-04\n",
    "VAL 40 B VAL 36 A 6.61640e+06,7.05592e+06,-4.39525e+05,-6.64296e+00\n",
    "ILE 31 A VAL 36 A 5.29060e+06,3.89274e+06,1.39786e+06,2.64216e+01\n",
    "ILE 31 A VAL 36 B 1.99584e+07,1.96060e+07,3.52414e+05,1.76574e+00\n",
    "ILE 93 A VAL 36 A 8.07699e+05,1.98619e+06,-1.17849e+06,-1.45907e+02\n",
    "ALA 33 A VAL 36 B 2.43717e+06,4.11624e+06,-1.67907e+06,-6.88941e+01\n",
    "\n",
    "\n",
    "ILE 133 A VAL 130 A 1.24305e+06,4.55249e+06,-3.30944e+06,-2.66234e+02 #Conversational region, will count double for VAL/LEU\n",
    "ILE 133 A VAL 130 B 1.42779e+06,1.69842e+06,-2.70634e+05,-1.89548e+01\n",
    "VAL 130 B ILE 133 A 1.42671e+06,1.44372e+06,-1.70116e+04,-1.19236e+00\n",
    "VAL 130 A ILE 133 A 1.04259e+06,1.01850e+06,2.40949e+04,2.31106e+00\n",
    "\n",
    "\n",
    "ALA 100 A ALA 104 A 1.21497e+06,3.95533e+06,-2.74036e+06,-2.25550e+02 #Quite conversational, lots of LEU around\n",
    "ALA 104 A ALA 100 A 8.82693e+05,3.12642e+06,-2.24372e+06,-2.54191e+02\n",
    "\n",
    "\n",
    "LEU 137 B ILE 141 A 2.22778e+06,4.99232e+06,-2.76454e+06,-1.24094e+02 #Double counting of LEU/VAL, conversational\n",
    "LEU 137 A ILE 141 A 5.64772e+06,1.51180e+06,4.13592e+06,7.32317e+01\n",
    "LEU 137 B ALA 104 A 4.93620e+06,7.95083e+06,-3.01464e+06,-6.10721e+01\n",
    "\n",
    "\n",
    "ILE 89 A LEU 137 A 5.03357e+05,1.44596e+06,-9.42605e+05,-1.87264e+02 #Double counting of LEU/VAL, conversational\n",
    "ILE 89 A LEU 137 B 4.57136e+06,1.98798e+06,2.58338e+06,5.65124e+01\n",
    "\n",
    "\n",
    "ILE 157 A ALA 12 A 1.66232e+07,7.33326e+05,1.58899e+07,9.55885e+01 #V \"conversational\" region\n",
    "ALA 12 A ILE 157 A 1.42522e+07,2.65574e+06,1.15965e+07,8.13661e+01"
   ]
  },
  {
   "cell_type": "markdown",
   "metadata": {},
   "source": [
    "#Take home points - Sampling is likely to be necessary - Have lots of \"conversational\" regions with lots of LEU/VAL where we have issues with double counting. \n",
    "#First try - *Halving* any cross-relaxation rates due to VAL/LEU as these will only be present half the time\n",
    "#Will be interesting to see whether sampling adds *more* on top of halving and turning off intra-LEU, intra-VAL relaxation"
   ]
  },
  {
   "cell_type": "markdown",
   "metadata": {},
   "source": [
    "ILE 157 A ALA 12 A 1.66232e+07,2.86790e+05,1.63364e+07,9.82748e+01\n",
    "ALA 12 A ILE 157 A 1.42522e+07,2.48388e+06,1.17683e+07,8.25719e+01\n",
    "\n",
    "A12C-H\tI157C-H\t2.369869e+01\t1.254771e+00\t1.405509e+01\t4.544052e-01\t1.425220e+07\t1.662320e+07\t3.955892e+01\t4.613996e+01\t1.535852e-01\t1.177571e-01\t8.010000e-01\t1.087143e-01\t7.235709e+07\t2.375252e+08\n"
   ]
  },
  {
   "cell_type": "code",
   "execution_count": null,
   "metadata": {},
   "outputs": [],
   "source": [
    "0.7cm**3/g"
   ]
  },
  {
   "cell_type": "code",
   "execution_count": null,
   "metadata": {},
   "outputs": [],
   "source": []
  }
 ],
 "metadata": {
  "kernelspec": {
   "display_name": "Python 2",
   "language": "python",
   "name": "python2"
  },
  "language_info": {
   "codemirror_mode": {
    "name": "ipython",
    "version": 2
   },
   "file_extension": ".py",
   "mimetype": "text/x-python",
   "name": "python",
   "nbconvert_exporter": "python",
   "pygments_lexer": "ipython2",
   "version": "2.7.17"
  }
 },
 "nbformat": 4,
 "nbformat_minor": 2
}
