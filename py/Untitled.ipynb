{
 "cells": [
  {
   "cell_type": "code",
   "execution_count": 26,
   "metadata": {},
   "outputs": [
    {
     "name": "stdout",
     "output_type": "stream",
     "text": [
      "[[11 12 13]\n",
      " [21 22 23]\n",
      " [31 32 33]]\n",
      "------------------------\n",
      "[0 1 2]\n",
      "------------------------\n",
      "[[11 21 31]\n",
      " [12 22 32]\n",
      " [13 23 33]]\n",
      "------------------------\n",
      "[[33 13 23]\n",
      " [31 11 21]\n",
      " [32 12 22]]\n",
      "------------------------\n",
      "[[22 32 12]\n",
      " [23 33 13]\n",
      " [21 31 11]]\n"
     ]
    }
   ],
   "source": [
    "import numpy\n",
    "\n",
    "arr = numpy.array([[11,12,13],[21,22,23],[31,32,33]])\n",
    "index = numpy.arange(3)\n",
    "xx, yy = numpy.meshgrid(index, index)\n",
    "arr2 = arr[xx, yy]\n",
    "arr3 = arr[(xx-1)%3, (yy-1)%3]\n",
    "arr4 = arr[(xx-2)%3, (yy-2)%3]\n",
    "\n",
    "print(arr)\n",
    "print '------------------------'\n",
    "print(index)\n",
    "print '------------------------'\n",
    "print(arr2)\n",
    "print '------------------------'\n",
    "print(arr3)\n",
    "print '------------------------'\n",
    "print(arr4)"
   ]
  },
  {
   "cell_type": "code",
   "execution_count": 29,
   "metadata": {},
   "outputs": [
    {
     "name": "stdout",
     "output_type": "stream",
     "text": [
      "[0 1 2]\n",
      "[1 2 0]\n",
      "[2 0 1]\n",
      "[0 1 2]\n"
     ]
    }
   ],
   "source": [
    "arr = numpy.array([0,1,2])\n",
    "index = numpy.arange(3)\n",
    "\n",
    "print(arr[index])\n",
    "print(arr[(index+1)%3])\n",
    "print(arr[(index+2)%3])\n",
    "print(arr[(index+3)%3])\n"
   ]
  },
  {
   "cell_type": "code",
   "execution_count": 32,
   "metadata": {},
   "outputs": [
    {
     "name": "stdout",
     "output_type": "stream",
     "text": [
      "[[0. 0. 0.]\n",
      " [0. 0. 0.]\n",
      " [0. 0. 0.]]\n"
     ]
    }
   ],
   "source": [
    "arr = numpy.zeros((3,3))\n",
    "print arr"
   ]
  },
  {
   "cell_type": "code",
   "execution_count": 45,
   "metadata": {},
   "outputs": [
    {
     "name": "stdout",
     "output_type": "stream",
     "text": [
      "[[  1.  11. 111.]\n",
      " [  2.  22. 222.]\n",
      " [  3.  33. 333.]]\n",
      "[[1. 0. 0.]\n",
      " [0. 1. 0.]\n",
      " [0. 0. 1.]]\n",
      "----------------------------------------------\n",
      "[[[  0.  11. 111.]\n",
      "  [  1.  10. 111.]\n",
      "  [  1.  11. 110.]]\n",
      "\n",
      " [[  1.  22. 222.]\n",
      "  [  2.  21. 222.]\n",
      "  [  2.  22. 221.]]\n",
      "\n",
      " [[  2.  33. 333.]\n",
      "  [  3.  32. 333.]\n",
      "  [  3.  33. 332.]]]\n"
     ]
    }
   ],
   "source": [
    "v_b = numpy.array([[1.,0.,0.],[0.,1.,0.],[0.,0.,1.]])\n",
    "v_a = numpy.array([[1.,11.,111.],[2.,22.,222.],[3.,33.,333.]])\n",
    "\n",
    "i,j = numpy.meshgrid(numpy.arange(3), numpy.arange(3))\n",
    "\n",
    "\n",
    "v= numpy.zeros((3,3,3))\n",
    "v[i, j, :] = v_a[i, :] - v_b[j, :]\n",
    "print(v_a)\n",
    "print(v_b)\n",
    "print '----------------------------------------------'\n",
    "print(v)"
   ]
  },
  {
   "cell_type": "code",
   "execution_count": 47,
   "metadata": {},
   "outputs": [
    {
     "name": "stdout",
     "output_type": "stream",
     "text": [
      "num =  inf\n"
     ]
    },
    {
     "name": "stderr",
     "output_type": "stream",
     "text": [
      "C:\\Users\\ajbgroup\\AppData\\Local\\Continuum\\anaconda3\\envs\\py27\\lib\\site-packages\\ipykernel_launcher.py:1: RuntimeWarning: divide by zero encountered in double_scalars\n",
      "  \"\"\"Entry point for launching an IPython kernel.\n"
     ]
    }
   ],
   "source": [
    "num = 1./numpy.sin(0.)\n",
    "print 'num = ', num"
   ]
  },
  {
   "cell_type": "code",
   "execution_count": 56,
   "metadata": {},
   "outputs": [
    {
     "data": {
      "text/plain": [
       "array(['C', 'H', 'H', 'H', 'M'], dtype='|S1')"
      ]
     },
     "execution_count": 56,
     "metadata": {},
     "output_type": "execute_result"
    }
   ],
   "source": [
    "def GetBaseType(tag):\n",
    "    base_type = ''\n",
    "    for i in range(len(tag)): #loop over specification\n",
    "        if(tag[i] in '1234567890'): #is current entry a digit?\n",
    "            if(tag[i-1] in '1234567890'): #is the last element a digit?\n",
    "                for j in range(int(tag[i-1]+tag[i])-1):\n",
    "                    base_type+=tag[i-2]\n",
    "            else:\n",
    "                for j in range(int(tag[i])-1):\n",
    "                    base_type+=tag[i-1]\n",
    "        else:\n",
    "            base_type+=tag[i]\n",
    "    return numpy.array(list(base_type))\n",
    "    \n",
    "GetBaseType('CH3M')"
   ]
  },
  {
   "cell_type": "code",
   "execution_count": null,
   "metadata": {},
   "outputs": [],
   "source": []
  }
 ],
 "metadata": {
  "kernelspec": {
   "display_name": "Python 2",
   "language": "python",
   "name": "python2"
  },
  "language_info": {
   "codemirror_mode": {
    "name": "ipython",
    "version": 2
   },
   "file_extension": ".py",
   "mimetype": "text/x-python",
   "name": "python",
   "nbconvert_exporter": "python",
   "pygments_lexer": "ipython2",
   "version": "2.7.17"
  }
 },
 "nbformat": 4,
 "nbformat_minor": 2
}
